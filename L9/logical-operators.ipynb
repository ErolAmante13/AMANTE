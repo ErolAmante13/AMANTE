{
 "cells": [
  {
   "cell_type": "markdown",
   "metadata": {},
   "source": [
    "# LOGICAL OPERATORS <hr style = \"border:2.5px solid navy\"></hr>\n"
   ]
  },
  {
   "cell_type": "markdown",
   "metadata": {},
   "source": [
    "Data Analyst: Erol A. Amante <br>\n",
    "Department: Electrical Department"
   ]
  },
  {
   "cell_type": "code",
   "execution_count": 31,
   "metadata": {},
   "outputs": [
    {
     "name": "stdout",
     "output_type": "stream",
     "text": [
      "both are true\n"
     ]
    }
   ],
   "source": [
    "# a AND b must  be True\n",
    "a = True \n",
    "b = True\n",
    "\n",
    "if a and b:\n",
    "    print(\"both are true\")\n",
    "else:\n",
    "    print(\"at least one is false\")"
   ]
  },
  {
   "cell_type": "code",
   "execution_count": 32,
   "metadata": {},
   "outputs": [
    {
     "name": "stdout",
     "output_type": "stream",
     "text": [
      "12 is within the range of 11 to 20\n"
     ]
    }
   ],
   "source": [
    "# Check if the a is within a range of 1 to 30 \n",
    "a = 12\n",
    "\n",
    "if (a > 0) and (a <= 10):\n",
    "    print(str(a) + \" is within the range of 1 to 10\")\n",
    "elif (a > 10) and (a <= 20):\n",
    "    print(str(a) + \" is within the range of 11 to 20\")\n",
    "elif (a > 20) and (a <= 30):\n",
    "    print(str(a) + \" is within the range of 21 to 30\")\n",
    "else:\n",
    "    print(\" is out of range\")"
   ]
  },
  {
   "cell_type": "code",
   "execution_count": 33,
   "metadata": {},
   "outputs": [
    {
     "name": "stdout",
     "output_type": "stream",
     "text": [
      "23 is within the range of 21 to 30\n"
     ]
    }
   ],
   "source": [
    "# Check if the a is within a range of 1 to 30 \n",
    "a = 23\n",
    "if (a > 0) and (a <= 10):\n",
    "    print(str(a) + \" is within the range of 1 to 10\")\n",
    "elif (a > 10) and (a <= 20):\n",
    "    print(str(a) + \" is within the range of 11 to 20\")\n",
    "elif (a > 20) and (a <= 30):\n",
    "    print(str(a) + \" is within the range of 21 to 30\")\n",
    "else:\n",
    "    print(\" is out of range\")"
   ]
  },
  {
   "cell_type": "code",
   "execution_count": 34,
   "metadata": {},
   "outputs": [
    {
     "name": "stdout",
     "output_type": "stream",
     "text": [
      "6 is within the range of 1 to 10\n"
     ]
    }
   ],
   "source": [
    "# Check if the a is within a range of 1 to 30 \n",
    "a = 6\n",
    "if (a > 0) and (a <= 10):\n",
    "    print(str(a) + \" is within the range of 1 to 10\")\n",
    "elif (a > 10) and (a <= 20):\n",
    "    print(str(a) + \" is within the range of 11 to 20\")\n",
    "elif (a > 20) and (a <= 30):\n",
    "    print(str(a) + \" is within the range of 21 to 30\")\n",
    "else:\n",
    "    print(\" is out of range\")"
   ]
  },
  {
   "cell_type": "code",
   "execution_count": 35,
   "metadata": {},
   "outputs": [
    {
     "name": "stdout",
     "output_type": "stream",
     "text": [
      "70 is out of range\n"
     ]
    }
   ],
   "source": [
    "# Check if the a is within a range of 1 to 30 \n",
    "a = 70\n",
    "if (a > 0) and (a <= 10):\n",
    "    print(str(a) + \" is within the range of 1 to 10\")\n",
    "elif (a > 10) and (a <= 20):\n",
    "    print(str(a) + \" is within the range of 11 to 20\")\n",
    "elif (a > 20) and (a <= 30):\n",
    "    print(str(a) + \" is within the range of 21 to 30\")\n",
    "else:\n",
    "    print(str(a) + \" is out of range\")"
   ]
  },
  {
   "cell_type": "markdown",
   "metadata": {},
   "source": [
    "# Logical OR"
   ]
  },
  {
   "cell_type": "code",
   "execution_count": 36,
   "metadata": {},
   "outputs": [
    {
     "name": "stdout",
     "output_type": "stream",
     "text": [
      "at least one is true\n"
     ]
    }
   ],
   "source": [
    "# either a OR b must be True\n",
    "a = True\n",
    "b = False\n",
    "\n",
    "if a or b:\n",
    "    print(\"at least one is true\")\n",
    "else:\n",
    "    print(\"both are false\")"
   ]
  },
  {
   "cell_type": "code",
   "execution_count": 37,
   "metadata": {},
   "outputs": [
    {
     "name": "stdout",
     "output_type": "stream",
     "text": [
      "It's a great day to go outside!\n"
     ]
    }
   ],
   "source": [
    "# Go outside or stay indoors\n",
    "weather = \"sunny\"\n",
    "\n",
    "if (weather == \"rainy\") or (weather == \"stormy\"):\n",
    "    print(\"Bring an umbrella or stay indoors!\")\n",
    "elif (weather == \"sunny\") or (weather == \"clear\"):\n",
    "    print(\"It's a great day to go outside!\")\n",
    "else:\n",
    "    print(\"The weather is unpredictable today.\")"
   ]
  },
  {
   "cell_type": "code",
   "execution_count": 38,
   "metadata": {},
   "outputs": [
    {
     "name": "stdout",
     "output_type": "stream",
     "text": [
      "Bring an umbrella or stay indoors!\n"
     ]
    }
   ],
   "source": [
    "# Go outside or stay indoors\n",
    "weather = \"rainy\"\n",
    "\n",
    "if (weather == \"rainy\") or (weather == \"stormy\"):\n",
    "    print(\"Bring an umbrella or stay indoors!\")\n",
    "elif (weather == \"sunny\") or (weather == \"clear\"):\n",
    "    print(\"It's a great day to go outside!\")\n",
    "else:\n",
    "    print(\"The weather is unpredictable today.\")"
   ]
  },
  {
   "cell_type": "code",
   "execution_count": 39,
   "metadata": {},
   "outputs": [
    {
     "name": "stdout",
     "output_type": "stream",
     "text": [
      "The weather is unpredictable today.\n"
     ]
    }
   ],
   "source": [
    "# Go outside or stay indoors\n",
    "weather = \"undetermined\"\n",
    "\n",
    "if (weather == \"rainy\") or (weather == \"stormy\"):\n",
    "    print(\"Bring an umbrella or stay indoors!\")\n",
    "elif (weather == \"sunny\") or (weather == \"clear\"):\n",
    "    print(\"It's a great day to go outside!\")\n",
    "else:\n",
    "    print(\"The weather is unpredictable today.\")"
   ]
  },
  {
   "cell_type": "markdown",
   "metadata": {},
   "source": [
    "# Logical NOT"
   ]
  },
  {
   "cell_type": "code",
   "execution_count": 40,
   "metadata": {},
   "outputs": [
    {
     "data": {
      "text/plain": [
       "False"
      ]
     },
     "execution_count": 40,
     "metadata": {},
     "output_type": "execute_result"
    }
   ],
   "source": [
    "# negates the logical state\n",
    "a = True \n",
    "\n",
    "not a"
   ]
  },
  {
   "cell_type": "code",
   "execution_count": 41,
   "metadata": {},
   "outputs": [
    {
     "name": "stdout",
     "output_type": "stream",
     "text": [
      "8 is odd.\n"
     ]
    }
   ],
   "source": [
    "# Odd or even number\n",
    "a = 8\n",
    "\n",
    "if not(a % 2 == 0):\n",
    "    print(str(a) + \" is even.\")\n",
    "else:\n",
    "    print(str(a) + \" is odd.\")"
   ]
  },
  {
   "cell_type": "code",
   "execution_count": 42,
   "metadata": {},
   "outputs": [
    {
     "name": "stdout",
     "output_type": "stream",
     "text": [
      "11 is even.\n"
     ]
    }
   ],
   "source": [
    "# Odd or even number\n",
    "a = 11\n",
    "\n",
    "if not(a % 2 == 0):\n",
    "    print(str(a) + \" is even.\")\n",
    "else:\n",
    "    print(str(a) + \" is odd.\")"
   ]
  }
 ],
 "metadata": {
  "kernelspec": {
   "display_name": "Python 3",
   "language": "python",
   "name": "python3"
  },
  "language_info": {
   "codemirror_mode": {
    "name": "ipython",
    "version": 3
   },
   "file_extension": ".py",
   "mimetype": "text/x-python",
   "name": "python",
   "nbconvert_exporter": "python",
   "pygments_lexer": "ipython3",
   "version": "3.9.0"
  }
 },
 "nbformat": 4,
 "nbformat_minor": 2
}
