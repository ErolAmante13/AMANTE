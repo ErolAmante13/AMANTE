{
 "cells": [
  {
   "cell_type": "markdown",
   "metadata": {},
   "source": [
    "# IF-ELSE STATEMENT <hr style = \"border:2.5px solid navy\"></hr>"
   ]
  },
  {
   "cell_type": "markdown",
   "metadata": {},
   "source": [
    "Data Analyst: Erol A. Amante <br>\n",
    "Department: Electrical Department"
   ]
  },
  {
   "cell_type": "markdown",
   "metadata": {},
   "source": [
    "# if statement "
   ]
  },
  {
   "cell_type": "code",
   "execution_count": 24,
   "metadata": {},
   "outputs": [],
   "source": [
    "# passing score is 5.0\n",
    "grade = 2.9\n",
    "\n",
    "if grade >= 5.0:\n",
    "    print(\"pasar ko!\")"
   ]
  },
  {
   "cell_type": "code",
   "execution_count": 25,
   "metadata": {},
   "outputs": [
    {
     "name": "stdout",
     "output_type": "stream",
     "text": [
      "FAILED!\n"
     ]
    }
   ],
   "source": [
    "# two if statements are evaluated\n",
    "grade = 4.5\n",
    "\n",
    "# evaluate grade\n",
    "if grade >= 5.0:\n",
    "    print(\"pasar ko!\")\n",
    "\n",
    "if grade < 5.0:\n",
    "    print (\"FAILED!\")"
   ]
  },
  {
   "cell_type": "markdown",
   "metadata": {},
   "source": [
    "# if-else statement"
   ]
  },
  {
   "cell_type": "code",
   "execution_count": 26,
   "metadata": {},
   "outputs": [
    {
     "name": "stdout",
     "output_type": "stream",
     "text": [
      "FAILED!\n"
     ]
    }
   ],
   "source": [
    "# if grade >= 5.0 is True, 'else' will not be evaluated\n",
    "grade = 4.0\n",
    "if grade >= 5.0:\n",
    "    print(\"pasar ko!\")\n",
    "\n",
    "if grade < 5.0:\n",
    "    print (\"FAILED!\")"
   ]
  },
  {
   "cell_type": "markdown",
   "metadata": {},
   "source": [
    "# if-else-if statement"
   ]
  },
  {
   "cell_type": "code",
   "execution_count": 27,
   "metadata": {},
   "outputs": [
    {
     "name": "stdout",
     "output_type": "stream",
     "text": [
      "FAILED!\n"
     ]
    }
   ],
   "source": [
    "# if grade >= 5.0 is True, other conditions will not be evaluated\n",
    "grade = 2.9\n",
    "\n",
    "#evaluate grade\n",
    "if grade >= 5.0:\n",
    "    print(\"pasar ko!\")\n",
    "\n",
    "elif grade < 5.0: # < 5.0 evaluated first\n",
    "    print(\"FAILED!\")\n",
    "\n",
    "elif grade < 3.0:\n",
    "    print(\"DISMISSED!\")\n",
    "else:\n",
    "    print(\"INVALID!\")    "
   ]
  },
  {
   "cell_type": "code",
   "execution_count": 28,
   "metadata": {},
   "outputs": [
    {
     "name": "stdout",
     "output_type": "stream",
     "text": [
      "DISMISSED!\n"
     ]
    }
   ],
   "source": [
    "# if grade >= 5.0 is True, other conditions will not be evaluated\n",
    "grade = 2.9\n",
    "\n",
    "#evaluate grade\n",
    "if grade >= 5.0:\n",
    "    print(\"pasar ko!\")\n",
    "\n",
    "elif grade < 3.0: # < 3.0 evaluated first\n",
    "    print(\"DISMISSED!\")\n",
    "\n",
    "elif grade < 5.0: \n",
    "    print(\"FAILED!\")\n",
    "\n",
    "else:\n",
    "    print(\"INVALID!\")  "
   ]
  }
 ],
 "metadata": {
  "kernelspec": {
   "display_name": "Python 3",
   "language": "python",
   "name": "python3"
  },
  "language_info": {
   "codemirror_mode": {
    "name": "ipython",
    "version": 3
   },
   "file_extension": ".py",
   "mimetype": "text/x-python",
   "name": "python",
   "nbconvert_exporter": "python",
   "pygments_lexer": "ipython3",
   "version": "3.9.0"
  }
 },
 "nbformat": 4,
 "nbformat_minor": 2
}
