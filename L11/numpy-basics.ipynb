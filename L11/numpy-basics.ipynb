{
 "cells": [
  {
   "cell_type": "markdown",
   "metadata": {},
   "source": [
    "# NUMPY BASICS <hr style = \"border:2.5px solid navy\"></hr>\n"
   ]
  },
  {
   "cell_type": "markdown",
   "metadata": {},
   "source": [
    "Data Analyst: Erol A. Amante <br>\n",
    "Department: Electrical Department"
   ]
  },
  {
   "cell_type": "markdown",
   "metadata": {},
   "source": [
    "# Measures of Central Tendency"
   ]
  },
  {
   "cell_type": "code",
   "execution_count": 128,
   "metadata": {},
   "outputs": [],
   "source": [
    "# imports and packages\n",
    "import numpy as np\n",
    "from scipy import stats"
   ]
  },
  {
   "cell_type": "code",
   "execution_count": 129,
   "metadata": {},
   "outputs": [
    {
     "data": {
      "text/plain": [
       "array([120,  60,  85, 150, 200])"
      ]
     },
     "execution_count": 129,
     "metadata": {},
     "output_type": "execute_result"
    }
   ],
   "source": [
    "# Asigning the array\n",
    "fruits = np.array([120,60,85,150,200])\n",
    "fruits"
   ]
  },
  {
   "cell_type": "code",
   "execution_count": 130,
   "metadata": {},
   "outputs": [
    {
     "data": {
      "text/plain": [
       "123.0"
      ]
     },
     "execution_count": 130,
     "metadata": {},
     "output_type": "execute_result"
    }
   ],
   "source": [
    "# Finding the mean of the array\n",
    "fruits_mean = np.mean(fruits)\n",
    "fruits_mean"
   ]
  },
  {
   "cell_type": "code",
   "execution_count": 131,
   "metadata": {},
   "outputs": [
    {
     "data": {
      "text/plain": [
       "120.0"
      ]
     },
     "execution_count": 131,
     "metadata": {},
     "output_type": "execute_result"
    }
   ],
   "source": [
    "# Finding the median of the array\n",
    "fruits_median = np.median(fruits)\n",
    "fruits_median"
   ]
  },
  {
   "cell_type": "code",
   "execution_count": 132,
   "metadata": {},
   "outputs": [
    {
     "data": {
      "text/plain": [
       "ModeResult(mode=60, count=1)"
      ]
     },
     "execution_count": 132,
     "metadata": {},
     "output_type": "execute_result"
    }
   ],
   "source": [
    "# Finding the mode of the array\n",
    "fruits_mode = stats.mode(fruits)\n",
    "fruits_mode"
   ]
  },
  {
   "cell_type": "markdown",
   "metadata": {},
   "source": [
    "# 1D Array"
   ]
  },
  {
   "cell_type": "code",
   "execution_count": 133,
   "metadata": {},
   "outputs": [
    {
     "data": {
      "text/plain": [
       "array([1, 2, 3])"
      ]
     },
     "execution_count": 133,
     "metadata": {},
     "output_type": "execute_result"
    }
   ],
   "source": [
    "# Assigning a 1D Array\n",
    "array_a = np.array([1,2,3])\n",
    "array_a"
   ]
  },
  {
   "cell_type": "markdown",
   "metadata": {},
   "source": [
    "# 2D Array"
   ]
  },
  {
   "cell_type": "code",
   "execution_count": 134,
   "metadata": {},
   "outputs": [
    {
     "data": {
      "text/plain": [
       "array([[1, 2, 3],\n",
       "       [4, 5, 6]])"
      ]
     },
     "execution_count": 134,
     "metadata": {},
     "output_type": "execute_result"
    }
   ],
   "source": [
    "# Assigning a 2D Array\n",
    "array_b = np.array([\n",
    "    [1,2,3],\n",
    "    [4,5,6]])\n",
    "array_b"
   ]
  },
  {
   "cell_type": "code",
   "execution_count": 135,
   "metadata": {},
   "outputs": [
    {
     "data": {
      "text/plain": [
       "array([[1, 4],\n",
       "       [2, 5],\n",
       "       [3, 6]])"
      ]
     },
     "execution_count": 135,
     "metadata": {},
     "output_type": "execute_result"
    }
   ],
   "source": [
    "# Transposing array into columns\n",
    "array_b.T"
   ]
  },
  {
   "cell_type": "code",
   "execution_count": 136,
   "metadata": {},
   "outputs": [
    {
     "data": {
      "text/plain": [
       "array([[1, 4],\n",
       "       [2, 5],\n",
       "       [3, 6]])"
      ]
     },
     "execution_count": 136,
     "metadata": {},
     "output_type": "execute_result"
    }
   ],
   "source": [
    "# Updating the Status \n",
    "array_b = array_b.T\n",
    "array_b"
   ]
  },
  {
   "cell_type": "code",
   "execution_count": 137,
   "metadata": {},
   "outputs": [
    {
     "data": {
      "text/plain": [
       "array([[1, 4],\n",
       "       [2, 5],\n",
       "       [3, 6]])"
      ]
     },
     "execution_count": 137,
     "metadata": {},
     "output_type": "execute_result"
    }
   ],
   "source": [
    "array_b"
   ]
  },
  {
   "cell_type": "code",
   "execution_count": 138,
   "metadata": {},
   "outputs": [
    {
     "data": {
      "text/plain": [
       "array([ 6, 15])"
      ]
     },
     "execution_count": 138,
     "metadata": {},
     "output_type": "execute_result"
    }
   ],
   "source": [
    "# Adding by row \n",
    "np.sum(array_b, axis=0)"
   ]
  },
  {
   "cell_type": "code",
   "execution_count": 139,
   "metadata": {},
   "outputs": [
    {
     "data": {
      "text/plain": [
       "array([5, 7, 9])"
      ]
     },
     "execution_count": 139,
     "metadata": {},
     "output_type": "execute_result"
    }
   ],
   "source": [
    "# Adding by column\n",
    "np.sum(array_b, axis=1)"
   ]
  },
  {
   "cell_type": "markdown",
   "metadata": {},
   "source": [
    "# Exercise Jaguar VS. Panther "
   ]
  },
  {
   "cell_type": "markdown",
   "metadata": {},
   "source": [
    "## Jaguar Dataset"
   ]
  },
  {
   "cell_type": "code",
   "execution_count": 140,
   "metadata": {},
   "outputs": [
    {
     "data": {
      "text/plain": [
       "array([10.6,  9.1,  9.3,  9.8, 10.5, 10.4,  9.5, 11. , 10.4,  3. ,  9.8])"
      ]
     },
     "execution_count": 140,
     "metadata": {},
     "output_type": "execute_result"
    }
   ],
   "source": [
    "Jaguar = np.array([10.6, 9.1,9.3,9.8,10.5,10.4,9.5,11,10.4,3,9.8])\n",
    "Jaguar"
   ]
  },
  {
   "cell_type": "code",
   "execution_count": 141,
   "metadata": {},
   "outputs": [
    {
     "name": "stdout",
     "output_type": "stream",
     "text": [
      "The mean of the dataset Jaguar is 9.399999999999999\n",
      "The median of the dataset Jaguar is 9.8\n",
      "The mode of the dataset Jaguar is 9.8 and the count is 2\n"
     ]
    }
   ],
   "source": [
    "Jaguar_mean = np.mean(Jaguar)\n",
    "print(\"The mean of the dataset Jaguar is \" + str(Jaguar_mean))\n",
    "\n",
    "Jaguar_median = np.median(Jaguar)\n",
    "print(\"The median of the dataset Jaguar is \" + str(Jaguar_median))\n",
    "\n",
    "Jaguar_mode = stats.mode(Jaguar)\n",
    "print(\"The mode of the dataset Jaguar is \" + str(Jaguar_mode[0]) + \" and the count is \" + str(Jaguar_mode[1]))\n"
   ]
  },
  {
   "cell_type": "code",
   "execution_count": 142,
   "metadata": {},
   "outputs": [
    {
     "name": "stdout",
     "output_type": "stream",
     "text": [
      "The minimum range of the Jaguar dataset is 3.0\n"
     ]
    }
   ],
   "source": [
    "Jaguar_minrange = np.min(Jaguar)\n",
    "print(\"The minimum range of the Jaguar dataset is \" + str(Jaguar_minrange)) "
   ]
  },
  {
   "cell_type": "code",
   "execution_count": 143,
   "metadata": {},
   "outputs": [
    {
     "name": "stdout",
     "output_type": "stream",
     "text": [
      "The maximum range of the Jaguar dataset is 11.0\n"
     ]
    }
   ],
   "source": [
    "Jaguar_maxrange = np.max(Jaguar)\n",
    "print(\"The maximum range of the Jaguar dataset is \" + str(Jaguar_maxrange)) "
   ]
  },
  {
   "cell_type": "code",
   "execution_count": 144,
   "metadata": {},
   "outputs": [
    {
     "name": "stdout",
     "output_type": "stream",
     "text": [
      "The 1st Quartile of the Jaguar Dataset is 9.4\n"
     ]
    }
   ],
   "source": [
    "Jaguar_PQuart1 = np.percentile(Jaguar,25)\n",
    "print(\"The 1st Quartile of the Jaguar Dataset is \" + str(Jaguar_PQuart1))"
   ]
  },
  {
   "cell_type": "code",
   "execution_count": 145,
   "metadata": {},
   "outputs": [
    {
     "name": "stdout",
     "output_type": "stream",
     "text": [
      "The 2nd Quartile of the Jaguar Dataset is 9.8\n"
     ]
    }
   ],
   "source": [
    "Jaguar_PQuart2 = np.percentile(Jaguar,50)\n",
    "print(\"The 2nd Quartile of the Jaguar Dataset is \" + str(Jaguar_PQuart2))"
   ]
  },
  {
   "cell_type": "code",
   "execution_count": 146,
   "metadata": {},
   "outputs": [
    {
     "name": "stdout",
     "output_type": "stream",
     "text": [
      "The 3rd Quartile of the Jaguar Dataset is 10.45\n"
     ]
    }
   ],
   "source": [
    "Jaguar_PQuart3 = np.percentile(Jaguar,75)\n",
    "print(\"The 3rd Quartile of the Jaguar Dataset is \" + str(Jaguar_PQuart3))"
   ]
  },
  {
   "cell_type": "code",
   "execution_count": 147,
   "metadata": {},
   "outputs": [
    {
     "name": "stdout",
     "output_type": "stream",
     "text": [
      "The interquartile range of the Jaguar dataset is 1.049999999999999\n"
     ]
    }
   ],
   "source": [
    "# Interquartile range\n",
    "IQR_Jaguar = Jaguar_PQuart3 - Jaguar_PQuart1\n",
    "print(\"The interquartile range of the Jaguar dataset is \" + str(IQR_Jaguar))"
   ]
  },
  {
   "cell_type": "code",
   "execution_count": 148,
   "metadata": {},
   "outputs": [
    {
     "name": "stdout",
     "output_type": "stream",
     "text": [
      "The Variance of the Jaguar dataset is 4.418181818181818\n"
     ]
    }
   ],
   "source": [
    "Var_Jaguar = np.var(Jaguar)\n",
    "print(\"The Variance of the Jaguar dataset is \" + str(Var_Jaguar))"
   ]
  },
  {
   "cell_type": "code",
   "execution_count": 149,
   "metadata": {},
   "outputs": [
    {
     "name": "stdout",
     "output_type": "stream",
     "text": [
      "The Standard Deviation of the Jaguar dataset is 2.101947149236112\n"
     ]
    }
   ],
   "source": [
    "StD_Jaguar = np.std(Jaguar)\n",
    "print(\"The Standard Deviation of the Jaguar dataset is \" + str(StD_Jaguar))"
   ]
  },
  {
   "cell_type": "markdown",
   "metadata": {},
   "source": [
    "## Panther Dataset"
   ]
  },
  {
   "cell_type": "code",
   "execution_count": 150,
   "metadata": {},
   "outputs": [
    {
     "data": {
      "text/plain": [
       "array([10.1, 11. ,  9.1, 20. ,  9.2, 10.8,  9.9,  9.2,  9.1,  9.1])"
      ]
     },
     "execution_count": 150,
     "metadata": {},
     "output_type": "execute_result"
    }
   ],
   "source": [
    "Panther = np.array([10.1,11,9.1,20,9.2,10.8,9.9,9.2,9.1,9.1])\n",
    "Panther"
   ]
  },
  {
   "cell_type": "code",
   "execution_count": 151,
   "metadata": {},
   "outputs": [
    {
     "name": "stdout",
     "output_type": "stream",
     "text": [
      "The mean of the dataset Panther is 10.75\n",
      "The median of the dataset Panther is 9.55\n",
      "The mode of the dataset Panther is 9.1 and the count is 3\n"
     ]
    }
   ],
   "source": [
    "Panther_mean = np.mean(Panther)\n",
    "print(\"The mean of the dataset Panther is \" + str(Panther_mean))\n",
    "\n",
    "Panther_median = np.median(Panther)\n",
    "print(\"The median of the dataset Panther is \" + str(Panther_median))\n",
    "\n",
    "Panther_mode = stats.mode(Panther)\n",
    "print(\"The mode of the dataset Panther is \" + str(Panther_mode[0]) + \" and the count is \" + str(Panther_mode[1]))\n"
   ]
  },
  {
   "cell_type": "code",
   "execution_count": 152,
   "metadata": {},
   "outputs": [
    {
     "name": "stdout",
     "output_type": "stream",
     "text": [
      "The minimum range of the Panther dataset is  9.1\n"
     ]
    }
   ],
   "source": [
    "Panther_minrange = np.min(Panther)\n",
    "print(\"The minimum range of the Panther dataset is \", Panther_minrange) "
   ]
  },
  {
   "cell_type": "code",
   "execution_count": 153,
   "metadata": {},
   "outputs": [
    {
     "name": "stdout",
     "output_type": "stream",
     "text": [
      "The maximum range of the Panther dataset is 20.0\n"
     ]
    }
   ],
   "source": [
    "Panther_maxrange = np.max(Panther)\n",
    "print(\"The maximum range of the Panther dataset is \" + str(Panther_maxrange)) "
   ]
  },
  {
   "cell_type": "code",
   "execution_count": 154,
   "metadata": {},
   "outputs": [
    {
     "name": "stdout",
     "output_type": "stream",
     "text": [
      "The 1st Quartile of the Panther Dataset is 9.125\n"
     ]
    }
   ],
   "source": [
    "Panther_PQuart1 = np.percentile(Panther,25)\n",
    "print(\"The 1st Quartile of the Panther Dataset is \" + str(Panther_PQuart1))"
   ]
  },
  {
   "cell_type": "code",
   "execution_count": 155,
   "metadata": {},
   "outputs": [
    {
     "name": "stdout",
     "output_type": "stream",
     "text": [
      "The 2nd Quartile of the Panther Dataset is 9.55\n"
     ]
    }
   ],
   "source": [
    "Panther_PQuart2 = np.percentile(Panther,50)\n",
    "print(\"The 2nd Quartile of the Panther Dataset is \" + str(Panther_PQuart2))"
   ]
  },
  {
   "cell_type": "code",
   "execution_count": 156,
   "metadata": {},
   "outputs": [
    {
     "name": "stdout",
     "output_type": "stream",
     "text": [
      "The 3rd Quartile of the Panther Dataset is 10.625\n"
     ]
    }
   ],
   "source": [
    "Panther_PQuart3 = np.percentile(Panther,75)\n",
    "print(\"The 3rd Quartile of the Panther Dataset is \" + str(Panther_PQuart3))"
   ]
  },
  {
   "cell_type": "code",
   "execution_count": 157,
   "metadata": {},
   "outputs": [
    {
     "name": "stdout",
     "output_type": "stream",
     "text": [
      "The interquartile range of the Panther dataset is 1.5\n"
     ]
    }
   ],
   "source": [
    "# Interquartile range\n",
    "IQR_Panther = Panther_PQuart3 - Panther_PQuart1\n",
    "print(\"The interquartile range of the Panther dataset is \" + str(IQR_Panther))"
   ]
  },
  {
   "cell_type": "code",
   "execution_count": 158,
   "metadata": {},
   "outputs": [
    {
     "name": "stdout",
     "output_type": "stream",
     "text": [
      "The Variance of the Panther dataset is 9.974499999999999\n"
     ]
    }
   ],
   "source": [
    "Var_Panther = np.var(Panther)\n",
    "print(\"The Variance of the Panther dataset is \" + str(Var_Panther))"
   ]
  },
  {
   "cell_type": "code",
   "execution_count": 159,
   "metadata": {},
   "outputs": [
    {
     "name": "stdout",
     "output_type": "stream",
     "text": [
      "The Standard Deviation of the Panther dataset is 3.1582431825304393\n"
     ]
    }
   ],
   "source": [
    "StD_Panther = np.std(Panther)\n",
    "print(\"The Standard Deviation of the Panther dataset is \" + str(StD_Panther))"
   ]
  }
 ],
 "metadata": {
  "kernelspec": {
   "display_name": "Python 3",
   "language": "python",
   "name": "python3"
  },
  "language_info": {
   "codemirror_mode": {
    "name": "ipython",
    "version": 3
   },
   "file_extension": ".py",
   "mimetype": "text/x-python",
   "name": "python",
   "nbconvert_exporter": "python",
   "pygments_lexer": "ipython3",
   "version": "3.9.0"
  }
 },
 "nbformat": 4,
 "nbformat_minor": 2
}
